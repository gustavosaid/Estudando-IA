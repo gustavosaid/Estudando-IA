{
 "cells": [
  {
   "cell_type": "markdown",
   "id": "8d4a8c49",
   "metadata": {},
   "source": [
    "#### Atividade Busca Semântica\n",
    "\n",
    "Nesta atividade você deve aplicar os conhecimentos sobre **word embeddings e tokenização** para criar um mecanismos de busca semântica. Será disponibilizado um conjunto de dados que possui perguntas médicas, em inglês. Esse conjunto de dados possui as perguntas e também as respostas.\n",
    "\n",
    "Você deve **gerar os vetores das perguntas do conjunto de dados**, e permitir que o \"usuário\" envie a sua pergunta. Você também deve gerar o vetor da **pergunta do usuário** e com isso buscar a resposta ideal para o usuário.\n",
    "\n",
    "Portanto, no seu script deve ser possível escrever um texto \"pergunta\" e deve ser retornado a resposta adequada, isto é, a resposta associada a pergunta mais **similar** no conjunto de dados.\n",
    "\n",
    "Para isso utilize o pandas e os packages do huggingface\n"
   ]
  },
  {
   "cell_type": "code",
   "execution_count": 28,
   "id": "76a580fe",
   "metadata": {},
   "outputs": [
    {
     "name": "stdout",
     "output_type": "stream",
     "text": [
      "Path to dataset files: /home/codespace/.cache/kagglehub/datasets/pythonafroz/medquad-medical-question-answer-for-ai-research/versions/1\n"
     ]
    }
   ],
   "source": [
    "### Download do conjunto de dados\n",
    "\n",
    "import kagglehub\n",
    "\n",
    "# Download latest version\n",
    "path = kagglehub.dataset_download(\"pythonafroz/medquad-medical-question-answer-for-ai-research\")\n",
    "\n",
    "print(\"Path to dataset files:\", path)"
   ]
  },
  {
   "cell_type": "code",
   "execution_count": 29,
   "id": "81a1b05e",
   "metadata": {},
   "outputs": [],
   "source": [
    "import pandas as pd\n",
    "from transformers import AutoTokenizer, AutoModel\n",
    "import torch\n",
    "import torch.nn.functional as F\n",
    "from torch import Tensor\n",
    "from transformers.tokenization_utils_base import BatchEncoding"
   ]
  },
  {
   "cell_type": "code",
   "execution_count": 30,
   "id": "b7303ee2",
   "metadata": {},
   "outputs": [],
   "source": [
    "## Amostra do conjunto\n",
    "\n",
    "df = pd.read_csv(f\"{path}/medquad.csv\")\n",
    "df_amostra = df.sample(100)"
   ]
  },
  {
   "cell_type": "code",
   "execution_count": 31,
   "id": "dc0b2254",
   "metadata": {},
   "outputs": [
    {
     "data": {
      "text/plain": [
       "<bound method NDFrame.head of                                                 question  \\\n",
       "0                               What is (are) Glaucoma ?   \n",
       "1                                 What causes Glaucoma ?   \n",
       "2                    What are the symptoms of Glaucoma ?   \n",
       "3                 What are the treatments for Glaucoma ?   \n",
       "4                               What is (are) Glaucoma ?   \n",
       "...                                                  ...   \n",
       "16407  What is (are) Diabetic Neuropathies: The Nerve...   \n",
       "16408  How to prevent Diabetic Neuropathies: The Nerv...   \n",
       "16409  How to diagnose Diabetic Neuropathies: The Ner...   \n",
       "16410  What are the treatments for Diabetic Neuropath...   \n",
       "16411  What to do for Diabetic Neuropathies: The Nerv...   \n",
       "\n",
       "                                                  answer           source  \\\n",
       "0      Glaucoma is a group of diseases that can damag...  NIHSeniorHealth   \n",
       "1      Nearly 2.7 million people have glaucoma, a lea...  NIHSeniorHealth   \n",
       "2      Symptoms of Glaucoma  Glaucoma can develop in ...  NIHSeniorHealth   \n",
       "3      Although open-angle glaucoma cannot be cured, ...  NIHSeniorHealth   \n",
       "4      Glaucoma is a group of diseases that can damag...  NIHSeniorHealth   \n",
       "...                                                  ...              ...   \n",
       "16407  Focal neuropathy appears suddenly and affects ...            NIDDK   \n",
       "16408  The best way to prevent neuropathy is to keep ...            NIDDK   \n",
       "16409  Doctors diagnose neuropathy on the basis of sy...            NIDDK   \n",
       "16410  The first treatment step is to bring blood glu...            NIDDK   \n",
       "16411  - Diabetic neuropathies are nerve disorders ca...            NIDDK   \n",
       "\n",
       "                                              focus_area  \n",
       "0                                               Glaucoma  \n",
       "1                                               Glaucoma  \n",
       "2                                               Glaucoma  \n",
       "3                                               Glaucoma  \n",
       "4                                               Glaucoma  \n",
       "...                                                  ...  \n",
       "16407  Diabetic Neuropathies: The Nerve Damage of Dia...  \n",
       "16408  Diabetic Neuropathies: The Nerve Damage of Dia...  \n",
       "16409  Diabetic Neuropathies: The Nerve Damage of Dia...  \n",
       "16410  Diabetic Neuropathies: The Nerve Damage of Dia...  \n",
       "16411  Diabetic Neuropathies: The Nerve Damage of Dia...  \n",
       "\n",
       "[16412 rows x 4 columns]>"
      ]
     },
     "execution_count": 31,
     "metadata": {},
     "output_type": "execute_result"
    }
   ],
   "source": [
    "df.head"
   ]
  },
  {
   "cell_type": "code",
   "execution_count": 32,
   "id": "5e33a410",
   "metadata": {},
   "outputs": [],
   "source": [
    "# Modelo para a língua inglesa\n",
    "\n",
    "nome_modelo = \"bert-base-uncased\"\n",
    "tokenizer = AutoTokenizer.from_pretrained(nome_modelo)\n",
    "model = AutoModel.from_pretrained(nome_modelo)"
   ]
  },
  {
   "cell_type": "code",
   "execution_count": 33,
   "id": "185ad9a1",
   "metadata": {},
   "outputs": [],
   "source": [
    "## Funções para: 1) Obter os tokens; 2) Obter os embeddings\n",
    "\n",
    "def get_tokens(pergunta: str) -> str:\n",
    "    return tokenizer(pergunta, return_tensors=\"pt\")\n",
    "\n",
    "def get_vetores(tokens_pergunta: BatchEncoding) -> Tensor:\n",
    "\n",
    "    with torch.no_grad():\n",
    "        outputs = model(**tokens_pergunta)\n",
    "        embeddings = outputs.last_hidden_state\n",
    "\n",
    "    return embeddings"
   ]
  },
  {
   "cell_type": "code",
   "execution_count": 34,
   "id": "aa86f8b5",
   "metadata": {},
   "outputs": [],
   "source": [
    "## Novas colunas para os tokens e para os embeddings\n",
    "\n",
    "df_amostra['tokens'] = df_amostra['question'].apply(lambda x: get_tokens(x))\n",
    "df_amostra['vetores'] = df_amostra['tokens'].apply(lambda x: get_vetores(x))"
   ]
  },
  {
   "cell_type": "code",
   "execution_count": 35,
   "id": "1d14395a",
   "metadata": {},
   "outputs": [],
   "source": [
    "def get_cls_embedding(vetores: torch.Tensor) -> torch.Tensor:\n",
    "    return vetores[0,0,:]\n",
    "\n",
    "df_amostra['cls_embedding'] = df_amostra['vetores'].apply(get_cls_embedding)"
   ]
  },
  {
   "cell_type": "code",
   "execution_count": 36,
   "id": "85521d7b",
   "metadata": {},
   "outputs": [],
   "source": [
    "import torch.nn.functional as F\n",
    "\n",
    "def buscar_resposta(pergunta_usuario: str, df: pd.DataFrame):\n",
    "    tokens_usuario = get_tokens(pergunta_usuario)\n",
    "    vetores_usuario = get_vetores(tokens_usuario)\n",
    "    emb_usuario = get_cls_embedding(vetores_usuario)\n",
    "\n",
    "    embeddings_dataset = torch.stack(df['cls_embedding'].tolist())\n",
    "\n",
    "    similaridades = F.cosine_similarity(emb_usuario.unsqueeze(0), embeddings_dataset)\n",
    "\n",
    "    idx_max = torch.argmax(similaridades).item()\n",
    "\n",
    "    pergunta_mais_similar = df.iloc[idx_max]['question']\n",
    "    resposta_ideal = df.iloc[idx_max]['answer']\n",
    "    score = similaridades[idx_max].item()\n",
    "\n",
    "    return pergunta_mais_similar, resposta_ideal, score"
   ]
  },
  {
   "cell_type": "code",
   "execution_count": 37,
   "id": "b9c4fb86",
   "metadata": {},
   "outputs": [
    {
     "name": "stdout",
     "output_type": "stream",
     "text": [
      "Pergunta mais similar encontrada:\n",
      "What is (are) Mondini dysplasia ?\n",
      "\n",
      "Resposta sugerida:\n",
      "Mondini dysplasia is a type of inner ear malformation that is present at birth (congenital). Individuals with Mondini dysplasia have one and a half coils of the cochlea instead of the normal two coils. It may occur in one ear (unilateral) or both ears (bilateral) and can cause varying degrees of sensorineural hearing loss, although most individuals have profound hearing loss. The condition can also predispose affected individuals to recurrent meningitis. It is caused by disruption in the embryonic development of the inner ear during the seventh week of gestation. The condition may be isolated (occurring with no other conditions or malformations) or may occur with other ear malformations or a number of syndromes. Treatment options may include surgical repair of the defect to prevent recurrent meningitis; amplification aids for those with residual hearing; and cochlear implantation.\n",
      "\n",
      "Similaridade: 0.9335\n"
     ]
    }
   ],
   "source": [
    "pergunta_usuario = input('Digite sua pergunta em inglês: ')\n",
    "pergunta_similar, resposta, score = buscar_resposta(pergunta_usuario, df_amostra)\n",
    "print(f'Pergunta mais similar encontrada:\\n{pergunta_similar}\\n')\n",
    "print(f'Resposta sugerida:\\n{resposta}\\n')\n",
    "print(f'Similaridade: {score:.4f}')"
   ]
  }
 ],
 "metadata": {
  "kernelspec": {
   "display_name": ".venv",
   "language": "python",
   "name": "python3"
  },
  "language_info": {
   "codemirror_mode": {
    "name": "ipython",
    "version": 3
   },
   "file_extension": ".py",
   "mimetype": "text/x-python",
   "name": "python",
   "nbconvert_exporter": "python",
   "pygments_lexer": "ipython3",
   "version": "3.12.1"
  }
 },
 "nbformat": 4,
 "nbformat_minor": 5
}
