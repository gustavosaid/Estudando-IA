{
 "cells": [
  {
   "cell_type": "code",
   "execution_count": 1,
   "id": "c469af50",
   "metadata": {},
   "outputs": [],
   "source": [
    "import pandas as pd\n",
    "from reportlab.platypus import SimpleDocTemplate, Table, TableStyle\n",
    "from reportlab.lib import colors\n",
    "from reportlab.lib.pagesizes import landscape, A4"
   ]
  },
  {
   "cell_type": "code",
   "execution_count": 2,
   "id": "72a733c8",
   "metadata": {},
   "outputs": [],
   "source": [
    "df = pd.read_csv(\"tableExport (2).csv\")"
   ]
  },
  {
   "cell_type": "code",
   "execution_count": 3,
   "id": "33be48b8",
   "metadata": {},
   "outputs": [
    {
     "data": {
      "text/html": [
       "<div>\n",
       "<style scoped>\n",
       "    .dataframe tbody tr th:only-of-type {\n",
       "        vertical-align: middle;\n",
       "    }\n",
       "\n",
       "    .dataframe tbody tr th {\n",
       "        vertical-align: top;\n",
       "    }\n",
       "\n",
       "    .dataframe thead th {\n",
       "        text-align: right;\n",
       "    }\n",
       "</style>\n",
       "<table border=\"1\" class=\"dataframe\">\n",
       "  <thead>\n",
       "    <tr style=\"text-align: right;\">\n",
       "      <th></th>\n",
       "      <th>Nome</th>\n",
       "      <th>Endereço IP</th>\n",
       "      <th>Última conexão</th>\n",
       "      <th>Produto de segurança</th>\n",
       "      <th>Versão de produto de segurança</th>\n",
       "      <th>Usuários conectados</th>\n",
       "      <th>Nome do SO</th>\n",
       "      <th>Descrição</th>\n",
       "    </tr>\n",
       "  </thead>\n",
       "  <tbody>\n",
       "    <tr>\n",
       "      <th>0</th>\n",
       "      <td>VER-CMPM-02</td>\n",
       "      <td>128.128.100.2</td>\n",
       "      <td>15/09/2025 15:50:57</td>\n",
       "      <td>ESET Endpoint Security</td>\n",
       "      <td>12.0.2058.0</td>\n",
       "      <td>Matheus Ferreira</td>\n",
       "      <td>Microsoft Windows 11 Pro</td>\n",
       "      <td>VER WILIAN - MATHEUS</td>\n",
       "    </tr>\n",
       "    <tr>\n",
       "      <th>1</th>\n",
       "      <td>VER-CMPM-05</td>\n",
       "      <td>128.128.100.5</td>\n",
       "      <td>15/09/2025 17:23:26</td>\n",
       "      <td>ESET Endpoint Security</td>\n",
       "      <td>12.0.2058.0</td>\n",
       "      <td>Karina Almeida</td>\n",
       "      <td>Microsoft Windows 11 Pro</td>\n",
       "      <td>VER. OTAVIANO - KARINA</td>\n",
       "    </tr>\n",
       "    <tr>\n",
       "      <th>2</th>\n",
       "      <td>VER-CMPM-06</td>\n",
       "      <td>128.128.100.6</td>\n",
       "      <td>16/09/2025 08:56:26</td>\n",
       "      <td>ESET Endpoint Security</td>\n",
       "      <td>12.0.2058.0</td>\n",
       "      <td>Karla Cristina</td>\n",
       "      <td>Microsoft Windows 11 Pro</td>\n",
       "      <td>Gabinete Otaviano Marques</td>\n",
       "    </tr>\n",
       "    <tr>\n",
       "      <th>3</th>\n",
       "      <td>VER-CMPM-08</td>\n",
       "      <td>128.128.100.8</td>\n",
       "      <td>16/09/2025 08:51:02</td>\n",
       "      <td>ESET Endpoint Security</td>\n",
       "      <td>12.0.2058.0</td>\n",
       "      <td>NaN</td>\n",
       "      <td>Microsoft Windows 11 Pro</td>\n",
       "      <td>Gabinete - Mauri da JL</td>\n",
       "    </tr>\n",
       "    <tr>\n",
       "      <th>4</th>\n",
       "      <td>VER-CMPM-09</td>\n",
       "      <td>128.128.100.9</td>\n",
       "      <td>15/09/2025 17:34:22</td>\n",
       "      <td>ESET Endpoint Security</td>\n",
       "      <td>12.0.2058.0</td>\n",
       "      <td>Mauri da JL</td>\n",
       "      <td>Microsoft Windows 11 Pro</td>\n",
       "      <td>VER. MAURI DA JL</td>\n",
       "    </tr>\n",
       "  </tbody>\n",
       "</table>\n",
       "</div>"
      ],
      "text/plain": [
       "          Nome    Endereço IP       Última conexão    Produto de segurança  \\\n",
       "0  VER-CMPM-02  128.128.100.2  15/09/2025 15:50:57  ESET Endpoint Security   \n",
       "1  VER-CMPM-05  128.128.100.5  15/09/2025 17:23:26  ESET Endpoint Security   \n",
       "2  VER-CMPM-06  128.128.100.6  16/09/2025 08:56:26  ESET Endpoint Security   \n",
       "3  VER-CMPM-08  128.128.100.8  16/09/2025 08:51:02  ESET Endpoint Security   \n",
       "4  VER-CMPM-09  128.128.100.9  15/09/2025 17:34:22  ESET Endpoint Security   \n",
       "\n",
       "  Versão de produto de segurança Usuários conectados  \\\n",
       "0                    12.0.2058.0    Matheus Ferreira   \n",
       "1                    12.0.2058.0      Karina Almeida   \n",
       "2                    12.0.2058.0      Karla Cristina   \n",
       "3                    12.0.2058.0                 NaN   \n",
       "4                    12.0.2058.0         Mauri da JL   \n",
       "\n",
       "                 Nome do SO                  Descrição  \n",
       "0  Microsoft Windows 11 Pro       VER WILIAN - MATHEUS  \n",
       "1  Microsoft Windows 11 Pro     VER. OTAVIANO - KARINA  \n",
       "2  Microsoft Windows 11 Pro  Gabinete Otaviano Marques  \n",
       "3  Microsoft Windows 11 Pro     Gabinete - Mauri da JL  \n",
       "4  Microsoft Windows 11 Pro           VER. MAURI DA JL  "
      ]
     },
     "execution_count": 3,
     "metadata": {},
     "output_type": "execute_result"
    }
   ],
   "source": [
    "df.head()"
   ]
  },
  {
   "cell_type": "code",
   "execution_count": 4,
   "id": "4058e409",
   "metadata": {},
   "outputs": [],
   "source": [
    "# Converter DataFrame para lista (com cabeçalhos)\n",
    "data = [df.columns.tolist()] + df.values.tolist()"
   ]
  },
  {
   "cell_type": "code",
   "execution_count": 5,
   "id": "9c27a92e",
   "metadata": {},
   "outputs": [],
   "source": [
    "pdf = SimpleDocTemplate(\"dados.pdf\", pagesize=landscape(A4))\n",
    "table = Table(data)"
   ]
  },
  {
   "cell_type": "code",
   "execution_count": 6,
   "id": "73c0348f",
   "metadata": {},
   "outputs": [],
   "source": [
    "# Estilo da tabela\n",
    "style = TableStyle([\n",
    "    (\"FONTSIZE\", (0,0), (-1,-1), 10),  # fonte menor\n",
    "    (\"BACKGROUND\", (0, 0), (-1, 0), colors.grey),\n",
    "    (\"GRID\", (0,0), (-1,-1), 0.5, colors.black),\n",
    "])\n",
    "table.setStyle(style)"
   ]
  },
  {
   "cell_type": "code",
   "execution_count": 7,
   "id": "49ebb91d",
   "metadata": {},
   "outputs": [],
   "source": [
    "# Gerar PDF\n",
    "pdf.build([table])"
   ]
  }
 ],
 "metadata": {
  "kernelspec": {
   "display_name": ".venv",
   "language": "python",
   "name": "python3"
  },
  "language_info": {
   "codemirror_mode": {
    "name": "ipython",
    "version": 3
   },
   "file_extension": ".py",
   "mimetype": "text/x-python",
   "name": "python",
   "nbconvert_exporter": "python",
   "pygments_lexer": "ipython3",
   "version": "3.12.1"
  }
 },
 "nbformat": 4,
 "nbformat_minor": 5
}
