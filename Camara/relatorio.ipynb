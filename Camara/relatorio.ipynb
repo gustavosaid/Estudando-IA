{
 "cells": [
  {
   "cell_type": "code",
   "execution_count": 19,
   "id": "c469af50",
   "metadata": {},
   "outputs": [],
   "source": [
    "import pandas as pd\n",
    "from reportlab.platypus import SimpleDocTemplate, Table, TableStyle\n",
    "from reportlab.lib import colors\n",
    "from reportlab.lib.pagesizes import landscape, A4"
   ]
  },
  {
   "cell_type": "code",
   "execution_count": 2,
   "id": "72a733c8",
   "metadata": {},
   "outputs": [],
   "source": [
    "df = pd.read_csv(\"tableExport.csv\")"
   ]
  },
  {
   "cell_type": "code",
   "execution_count": 24,
   "id": "c9f2905c",
   "metadata": {},
   "outputs": [
    {
     "data": {
      "text/html": [
       "<div>\n",
       "<style scoped>\n",
       "    .dataframe tbody tr th:only-of-type {\n",
       "        vertical-align: middle;\n",
       "    }\n",
       "\n",
       "    .dataframe tbody tr th {\n",
       "        vertical-align: top;\n",
       "    }\n",
       "\n",
       "    .dataframe thead th {\n",
       "        text-align: right;\n",
       "    }\n",
       "</style>\n",
       "<table border=\"1\" class=\"dataframe\">\n",
       "  <thead>\n",
       "    <tr style=\"text-align: right;\">\n",
       "      <th></th>\n",
       "      <th>Nome</th>\n",
       "      <th>Endereço IP</th>\n",
       "      <th>Última conexão</th>\n",
       "      <th>Produto de segurança</th>\n",
       "      <th>Versão de produto de segurança</th>\n",
       "      <th>Usuários conectados</th>\n",
       "      <th>Status</th>\n",
       "      <th>Alertas</th>\n",
       "      <th>Detecções</th>\n",
       "      <th>Nome do SO</th>\n",
       "      <th>Marcações</th>\n",
       "    </tr>\n",
       "  </thead>\n",
       "  <tbody>\n",
       "    <tr>\n",
       "      <th>0</th>\n",
       "      <td>cmpm-137.scmpm.local</td>\n",
       "      <td>192.168.137.155</td>\n",
       "      <td>03/09/2025 17:29:14</td>\n",
       "      <td>ESET Endpoint Security</td>\n",
       "      <td>12.0.2058.0</td>\n",
       "      <td>sargento leomar</td>\n",
       "      <td>OK</td>\n",
       "      <td>0</td>\n",
       "      <td>0</td>\n",
       "      <td>Microsoft Windows 11 Pro</td>\n",
       "      <td>NaN</td>\n",
       "    </tr>\n",
       "    <tr>\n",
       "      <th>1</th>\n",
       "      <td>desktop-cuf8anp.scmpm.local</td>\n",
       "      <td>192.168.18.36</td>\n",
       "      <td>04/09/2025 07:05:22</td>\n",
       "      <td>ESET Endpoint Security</td>\n",
       "      <td>12.0.2058.0</td>\n",
       "      <td>Fernanda</td>\n",
       "      <td>OK</td>\n",
       "      <td>0</td>\n",
       "      <td>0</td>\n",
       "      <td>Microsoft Windows 10 Pro</td>\n",
       "      <td>NaN</td>\n",
       "    </tr>\n",
       "    <tr>\n",
       "      <th>2</th>\n",
       "      <td>cmpm-35.scmpm.local</td>\n",
       "      <td>192.168.0.114</td>\n",
       "      <td>28/05/2025 15:43:21</td>\n",
       "      <td>ESET Endpoint Security</td>\n",
       "      <td>12.0.2049.0</td>\n",
       "      <td>Administrator</td>\n",
       "      <td>OK</td>\n",
       "      <td>0</td>\n",
       "      <td>0</td>\n",
       "      <td>Microsoft Windows 11 Pro</td>\n",
       "      <td>NaN</td>\n",
       "    </tr>\n",
       "    <tr>\n",
       "      <th>3</th>\n",
       "      <td>cmpm-064.cmpm.local</td>\n",
       "      <td>192.168.0.110</td>\n",
       "      <td>10/01/2025 12:37:47</td>\n",
       "      <td>ESET Endpoint Security</td>\n",
       "      <td>11.1.2053.2</td>\n",
       "      <td>NaN</td>\n",
       "      <td>OK</td>\n",
       "      <td>0</td>\n",
       "      <td>0</td>\n",
       "      <td>Microsoft Windows 10 Pro</td>\n",
       "      <td>NaN</td>\n",
       "    </tr>\n",
       "    <tr>\n",
       "      <th>4</th>\n",
       "      <td>cmpm-115.scmpm.local</td>\n",
       "      <td>192.168.0.107</td>\n",
       "      <td>04/09/2025 12:37:55</td>\n",
       "      <td>ESET Endpoint Security</td>\n",
       "      <td>12.0.2058.0</td>\n",
       "      <td>Julia Lemos</td>\n",
       "      <td>OK</td>\n",
       "      <td>0</td>\n",
       "      <td>0</td>\n",
       "      <td>Microsoft Windows 11 Pro</td>\n",
       "      <td>NaN</td>\n",
       "    </tr>\n",
       "  </tbody>\n",
       "</table>\n",
       "</div>"
      ],
      "text/plain": [
       "                          Nome      Endereço IP       Última conexão  \\\n",
       "0         cmpm-137.scmpm.local  192.168.137.155  03/09/2025 17:29:14   \n",
       "1  desktop-cuf8anp.scmpm.local    192.168.18.36  04/09/2025 07:05:22   \n",
       "2          cmpm-35.scmpm.local    192.168.0.114  28/05/2025 15:43:21   \n",
       "3          cmpm-064.cmpm.local    192.168.0.110  10/01/2025 12:37:47   \n",
       "4         cmpm-115.scmpm.local    192.168.0.107  04/09/2025 12:37:55   \n",
       "\n",
       "     Produto de segurança Versão de produto de segurança Usuários conectados  \\\n",
       "0  ESET Endpoint Security                    12.0.2058.0     sargento leomar   \n",
       "1  ESET Endpoint Security                    12.0.2058.0            Fernanda   \n",
       "2  ESET Endpoint Security                    12.0.2049.0       Administrator   \n",
       "3  ESET Endpoint Security                    11.1.2053.2                 NaN   \n",
       "4  ESET Endpoint Security                    12.0.2058.0         Julia Lemos   \n",
       "\n",
       "  Status  Alertas  Detecções                Nome do SO  Marcações  \n",
       "0     OK        0          0  Microsoft Windows 11 Pro        NaN  \n",
       "1     OK        0          0  Microsoft Windows 10 Pro        NaN  \n",
       "2     OK        0          0  Microsoft Windows 11 Pro        NaN  \n",
       "3     OK        0          0  Microsoft Windows 10 Pro        NaN  \n",
       "4     OK        0          0  Microsoft Windows 11 Pro        NaN  "
      ]
     },
     "execution_count": 24,
     "metadata": {},
     "output_type": "execute_result"
    }
   ],
   "source": [
    "df.head()"
   ]
  },
  {
   "cell_type": "code",
   "execution_count": 11,
   "id": "11a0d0f5",
   "metadata": {},
   "outputs": [],
   "source": [
    "# Converter DataFrame para lista (com cabeçalhos)\n",
    "data = [df.columns.tolist()] + df.values.tolist()"
   ]
  },
  {
   "cell_type": "code",
   "execution_count": 20,
   "id": "4888f737",
   "metadata": {},
   "outputs": [],
   "source": [
    "pdf = SimpleDocTemplate(\"dados.pdf\", pagesize=landscape(A4))\n",
    "table = Table(data)"
   ]
  },
  {
   "cell_type": "code",
   "execution_count": 21,
   "id": "e8a56456",
   "metadata": {},
   "outputs": [],
   "source": [
    "# Estilo da tabela\n",
    "style = TableStyle([\n",
    "    (\"FONTSIZE\", (0,0), (-1,-1), 6),  # fonte menor\n",
    "    (\"BACKGROUND\", (0, 0), (-1, 0), colors.grey),\n",
    "    (\"GRID\", (0,0), (-1,-1), 0.5, colors.black),\n",
    "])\n",
    "table.setStyle(style)"
   ]
  },
  {
   "cell_type": "code",
   "execution_count": 23,
   "id": "0f75b3dc",
   "metadata": {},
   "outputs": [],
   "source": [
    "# Gerar PDF\n",
    "pdf.build([table])"
   ]
  }
 ],
 "metadata": {
  "kernelspec": {
   "display_name": ".venv",
   "language": "python",
   "name": "python3"
  },
  "language_info": {
   "codemirror_mode": {
    "name": "ipython",
    "version": 3
   },
   "file_extension": ".py",
   "mimetype": "text/x-python",
   "name": "python",
   "nbconvert_exporter": "python",
   "pygments_lexer": "ipython3",
   "version": "3.12.1"
  }
 },
 "nbformat": 4,
 "nbformat_minor": 5
}
